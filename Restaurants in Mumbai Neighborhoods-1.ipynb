{
  "nbformat": 4,
  "nbformat_minor": 0,
  "metadata": {
    "colab": {
      "name": "Capstone Project Nebourhood.ipynb",
      "provenance": [],
      "collapsed_sections": []
    },
    "kernelspec": {
      "name": "python3",
      "display_name": "Python 3"
    }
  },
  "cells": [
    {
      "cell_type": "markdown",
      "metadata": {
        "id": "ZdqlHwbKz_eS"
      },
      "source": [
        "# **What Should I Serve?**\n",
        "## **A Study of Restaurants in Mumbai Neighborhoods**\n",
        "**Completed in partial completion of IBM's Data Science Professional Certification - Vikash Kumar**\n",
        "### **Introduction**\n",
        "Imagine for a moment that you are a restaurantuer looking for new opportunties in the city of Mumbai, India. You know that the city is famous the world over for verities of business opportunities, and you cannot imagine opening your new venture anywhere else. There is a downside to going to such a popular food desitnation, however. There are already hundreds, if not thousands, of thriving restaurants competing for local and tourist dollars alike. You know that you have to find some way to stand out in the crowd. How can you find that 'x factor' to make your new restaurant different from all the others?\n",
        "\n",
        "Data Science, of course! You decide that that what you need to do is get a deeper look at the restaurants currently serving the diverse and liveley neighborhoods in Mumbai. Each area of the city is home to restaurants serving diffrent menus to different clientle. In order to stand out from the crowd, you need to know what each neighborhood contains, and what each neighborhood lacks. Your plan is to find an area the Big Easy that isn't too crowded, but still has thriving businesses, and then to open up a new eatery that is serving something unlike all the others.\n",
        "\n",
        "#### **Key Questions:**\n",
        "\n",
        "How many restaraunts are in each of the neighborhoods in Mumbai?\n",
        "What type of food do those restraunts serve?\n",
        "Where is there room in the market for something new?\n",
        "What would be a unique food to serve in that neighborhood?\n",
        "### **About the Data**\n",
        "Based on the questions we are trying to answer, we need to collect data on a few different topics. First, we need to know more about the neighborhoods of Mumbai. Luckily, **Wikipedia** has a very helpful [table of all the neighborhoods and thier geographic coordinates](https://en.wikipedia.org/wiki/List_of_neighbourhoods_in_Mumbai) that we can use.\n",
        "\n",
        "Next, we need to be able to identify the number and type of restraunts in a given neighborhood. We will use the Foursquare API to help us find and identify this information. This API will allow us to search for businesses and venues around a given geogrpahic point (like the neighborhood information from Wikipedia) and find out how many and what types of businesses are in that area. We will clean that up and group it to make an easier to follow listing of business types, then remove anything that isn't a restaurant for final analysis.\n",
        "\n",
        "Finally, we will combine this information and perform analysis and visualization techniques using pandas, numpy, folium and other packages to decide how densely packed a neighborhood is with restaurants as well as to idenify the types of restaurants that are located in each neighborhood. We will use k-means clustering to examine the commonality of types of restaurants and provide raw counts of businesses for consideration.\n",
        "\n",
        "In the end, we should be able to develop a simple search and retrieve function that allows you to input a neighborhood name, and get back an interactive map with the information you are looking for.\n",
        "\n",
        "### **Step Zero: Set-up**\n",
        "Before we start importing data, we need to intialize the notebook with all the libraries we are going to need."
      ]
    },
    {
      "cell_type": "code",
      "metadata": {
        "id": "CSMUKNaN0aLF"
      },
      "source": [
        ""
      ],
      "execution_count": null,
      "outputs": []
    }
  ]
}